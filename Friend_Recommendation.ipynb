{
 "cells": [
  {
   "cell_type": "markdown",
   "id": "0c72fccf",
   "metadata": {},
   "source": [
    "#### Question: Write a FriendSuggest() function that given a user U in a social network, returns the top suggested user. \n",
    "\n",
    "#### A top suggestion is someone in the network with whom U has the most number of friends in common. \n"
   ]
  },
  {
   "cell_type": "code",
   "execution_count": 1,
   "id": "2cad2fc6",
   "metadata": {},
   "outputs": [],
   "source": [
    "#User node class with two memebers - userid and a list of immmidiate connections\n",
    "class UserNode:\n",
    "    \n",
    "    def __init__ (self, userId):\n",
    "        self.userId = userId\n",
    "        self.connections = []\n",
    "        \n",
    "    def addConnection(self, node):\n",
    "        assert isinstance(node, UserNode)\n",
    "        self.connections.append(node)\n",
    "        \n",
    "    def __str__(self):\n",
    "        connectionInts = [str(x.userId) for x in self.connections]\n",
    "        return f'User Id is {str(self.userId)} and connections are {\",\".join(connectionInts)}'"
   ]
  },
  {
   "cell_type": "code",
   "execution_count": 2,
   "id": "77705c0a",
   "metadata": {},
   "outputs": [],
   "source": [
    "#A breadth first routine for traversing the graph and finding a recommendation\n",
    "def FriendSuggest(uNode):\n",
    "    visitedNode = {} #Hash to keep track of all the visited nodes\n",
    "    visitedNode[uNode.userId] = True\n",
    "    currentFriends = {} #Hash to have a list of current friends\n",
    "    nodesToTest = []\n",
    "\n",
    "    if (uNode == None or uNode.connections == None or len(uNode.connections) == 0):\n",
    "        return None\n",
    "    \n",
    "    # Iterate over current connections\n",
    "    # put connections of current connections in a set of breadth first search\n",
    "    # and in a hash for checking commong connections\n",
    "    # Add all the connections of the immidiate connections for the first layer of search\n",
    "    for connection in uNode.connections:\n",
    "        visitedNode[connection.userId] = True #add the immidiate connections in the visited node as we won't recommend them\n",
    "        currentFriends[connection.userId] = True\n",
    "        nodesToTest.extend(connection.connections) \n",
    "        \n",
    "    maxCommonFriends = 0\n",
    "    maxCommonNode = None\n",
    "    \n",
    "    def bfs(currentFriends, nodesToTest, maxCommonFriends, maxCommonNode, visitedNodes):\n",
    "        \n",
    "        if (len(nodesToTest) == 0):\n",
    "            return maxCommonNode\n",
    "        \n",
    "        newNodesToTest = []\n",
    "        for testNode in nodesToTest:\n",
    "            #Check if the node has already been visited\n",
    "            if (visitedNode.get(testNode.userId) != None):\n",
    "                continue\n",
    "            \n",
    "            visitedNode[testNode.userId] = True\n",
    "            commonFriends = 0\n",
    "            \n",
    "            for connectionTestNode in testNode.connections:\n",
    "                if (currentFriends.get(connectionTestNode.userId) != None):\n",
    "                    commonFriends = commonFriends + 1\n",
    "                else:\n",
    "                    newNodesToTest.add(connectionTestNode)\n",
    "            \n",
    "            if commonFriends > maxCommonFriends:\n",
    "                maxCommonFriends = commonFriends\n",
    "                maxCommonNode = testNode\n",
    "                \n",
    "        if (len(newNodesToTest) == 0):\n",
    "            return maxCommonNode\n",
    "        \n",
    "        return bfs(currentFriends, newNodesToTest, maxCommonFriends, maxCommonNode, visitedNodes)\n",
    "    \n",
    "    return bfs(currentFriends, nodesToTest, maxCommonFriends, maxCommonNode, visitedNode)"
   ]
  },
  {
   "cell_type": "markdown",
   "id": "452a435c",
   "metadata": {},
   "source": [
    "### Below is a small test for the function. Function correctly returns userD (node with userid 4) as the recommendation for userA"
   ]
  },
  {
   "cell_type": "code",
   "execution_count": 3,
   "id": "aae9adc8",
   "metadata": {},
   "outputs": [],
   "source": [
    "userA = UserNode(0)\n",
    "userB = UserNode(1)\n",
    "userC = UserNode(2)\n",
    "userD = UserNode(3)\n",
    "userE = UserNode(4)\n",
    "userF = UserNode(5)\n",
    "userG = UserNode(6)\n",
    "userH = UserNode(7)\n",
    "userI = UserNode(8)\n",
    "userJ = UserNode(9)\n",
    "userK = UserNode(10)\n",
    "userL = UserNode(11)\n",
    "userM = UserNode(12)\n",
    "userN = UserNode(13)\n",
    "userA.addConnection(userB)\n",
    "userA.addConnection(userC)\n",
    "userA.addConnection(userL)\n",
    "userA.addConnection(userM)\n",
    "userB.addConnection(userD)\n",
    "userB.addConnection(userE)\n",
    "userC.addConnection(userF)\n",
    "userC.addConnection(userG)\n",
    "userC.addConnection(userH)\n",
    "userD.addConnection(userB)\n",
    "userD.addConnection(userC)\n",
    "userD.addConnection(userL)\n",
    "userD.addConnection(userM)\n",
    "userE.addConnection(userB)\n",
    "userE.addConnection(userC)\n",
    "userE.addConnection(userL)"
   ]
  },
  {
   "cell_type": "code",
   "execution_count": 4,
   "id": "c665d509",
   "metadata": {},
   "outputs": [
    {
     "name": "stdout",
     "output_type": "stream",
     "text": [
      "User Id is 3 and connections are 1,2,11,12\n"
     ]
    }
   ],
   "source": [
    "print(FriendSuggest(userA))"
   ]
  }
 ],
 "metadata": {
  "kernelspec": {
   "display_name": "Python 3 (ipykernel)",
   "language": "python",
   "name": "python3"
  },
  "language_info": {
   "codemirror_mode": {
    "name": "ipython",
    "version": 3
   },
   "file_extension": ".py",
   "mimetype": "text/x-python",
   "name": "python",
   "nbconvert_exporter": "python",
   "pygments_lexer": "ipython3",
   "version": "3.11.5"
  }
 },
 "nbformat": 4,
 "nbformat_minor": 5
}
